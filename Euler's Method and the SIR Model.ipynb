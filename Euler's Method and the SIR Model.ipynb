{
 "cells": [
  {
   "cell_type": "markdown",
   "metadata": {},
   "source": [
    "# Euler's Method for Differential Equations\n",
    "\n",
    "Suppose we are given the ODE $$\\frac{dy}{dx} = F(x, y)$$ <br> and the initial condition $y(x_0) = y_0$, then Euler's Method uses the following recurrence: <br><br>\n",
    "$$y_{n+1} = y_n + hF(x_n, y_n).$$"
   ]
  },
  {
   "cell_type": "code",
   "execution_count": 1,
   "metadata": {},
   "outputs": [],
   "source": [
    "import numpy as np\n",
    "import pandas as pd\n",
    "import matplotlib.pyplot as plt\n",
    "import matplotlib"
   ]
  },
  {
   "cell_type": "markdown",
   "metadata": {},
   "source": [
    "# General ODE System Solver\n",
    "\n",
    "Suppose we have a system of $n$ differential equations\n",
    "$$\n",
    "\\begin{align*}\n",
    "\\frac{dY^{(1)}}{dt} &= F_1(t, Y^{(1)}, Y^{(2)}, \\dots, Y^{(n)}) \\\\\n",
    "\\frac{dY^{(2)}}{dt} &= F_2(t, Y^{(1)}, Y^{(2)}, \\dots, Y^{(n)}) \\\\\n",
    "&\\vdots \\\\\n",
    "\\frac{dY^{(n)}}{dt} &= F_n(t, Y^{(1)}, Y^{(2)}, \\dots Y^{(n)}) \\\\\n",
    "\\end{align*}\n",
    "$$\n",
    "\n",
    "We then simply use Euler's method so that for each $k$, $$Y^{(j)}_{k+1} = Y^{(j)}_{k} + hF_j(t_{k-1}, Y^{(1)}_{k-1}, Y^{(2)}_{k-1}, \\dots Y^{(n)}_{k-1}) $$"
   ]
  },
  {
   "cell_type": "markdown",
   "metadata": {},
   "source": [
    "We define a class that solves the ODE using Euler's Method. There are three inputs:\n",
    "* ```initial_conditions``` is an dictionary with the initial conditions as the values and the variable names as the labels (this is useful, eg. for the SIR model) in the same order as the derivatives. **Note: The first element of this array should be the initial time. This is usually 0**.\n",
    "* ```times``` is an array with two elements: the start and end time.\n",
    "* ```functions``` is an array with the derivatives.\n",
    "An additional useful quantity to store is the number of equations, which is stored in ```self.number_of_equations```. <br><br>\n",
    "\n",
    "\n",
    "We then define the function that actually solves the differential equations. We first define a matrix with all $0$s. This matrix has a row for each timestep at which we solve the system (plus an additional one for the initial row), as well as a row for each variable (plus an additional one for the times). We then replace the first column with all the timesteps. <br>\n",
    "\n",
    "We then need to fill each of the remaining rows using the iterative equation given above. If we want to give a function a variable number of inputs, we can use teh ```*``` notation. In this case, ```*iterate``` breaks up the array into its individual elements and passes these as arguments to the function."
   ]
  },
  {
   "cell_type": "code",
   "execution_count": 2,
   "metadata": {},
   "outputs": [],
   "source": [
    "class ODE(object):\n",
    "    def __init__(self, initial_conditions, times, functions):\n",
    "        self.states = initial_conditions # initial_conditions is a dictionary eg. {\"t\": 0, \"y_1\": 1, \"y_2\": 2...}\n",
    "        self.initial_conditions = list(initial_conditions.values()) # from above [0, 1, 2, ...]\n",
    "        self.times = times # array with two elements: start time and end time\n",
    "        self.functions = functions # name of function\n",
    "        self.number_of_equations = len(self.functions) # the number of DEs to solve\n",
    "    \n",
    "    def solve(self, step_size):\n",
    "        \n",
    "        \"\"\"\n",
    "        \n",
    "        Initialize matrix with all zeros. Each row is for a timestamp, and each column is for the value of Y_k at\n",
    "        that timestamp. Ie. row i gives the values for each of t, Y_1, ... Y_n at time i.\n",
    "        \"\"\"\n",
    "        \n",
    "        values = np.zeros(( int((self.times[1]-self.times[0])/step_size) + 1, self.number_of_equations + 1 ))\n",
    "        values[0] = self.initial_conditions # set first row as initial conditions\n",
    "        \n",
    "        # Set timestamps\n",
    "        for i in range(1, values.shape[0]):\n",
    "            values[i][0] = times[0] + i*step_size\n",
    "        \n",
    "        # Apply Euler's Method\n",
    "        for i in range(1, values.shape[0]):\n",
    "            iterate = []\n",
    "            for j in range(self.number_of_equations + 1):\n",
    "                iterate.append(values[i-1][j])\n",
    "            for k in range(1, self.number_of_equations + 1):\n",
    "                values[i][k] = values[i-1][k] + step_size*self.functions[k-1](*iterate)\n",
    "        \n",
    "        return values\n",
    "    \n",
    "    \n",
    "    \n",
    "    def plot(self, output, multiple=False, phase=False):\n",
    "        if multiple == True:\n",
    "            fig, axs = plt.subplots(self.number_of_equations, 1, figsize=(10,10))\n",
    "            for i in range(1, len(self.functions)+1):\n",
    "                axs[i-1].scatter(output[:, 0], output[:, i], s = 1)\n",
    "                axs[i-1].set_xlabel(list(self.states.keys())[0])\n",
    "                axs[i-1].set_ylabel(list(self.states.keys())[i])         \n",
    "        elif multiple == False and phase == False:\n",
    "            for i in range(1, len(self.functions)+1):\n",
    "                #plt.scatter(output[:, 0], output[:, i], s = 1, label = list(self.states.keys())[i])\n",
    "                plt.plot(output[:, 0], output[:, i], label=list(self.states.keys())[i], linewidth=1)\n",
    "            plt.legend(loc=2) \n",
    "        else:\n",
    "            if self.number_of_equations > 2:\n",
    "                return \"Error\"\n",
    "            else:\n",
    "                dat = np.zeros((output.shape[0], 2))\n",
    "                \n",
    "                dat[:,0] = output[:,1]\n",
    "                dat[:,1] = output[:,2]\n",
    "                \n",
    "                plt.xlabel(list(self.states.keys())[1])\n",
    "                plt.ylabel(list(self.states.keys())[2])\n",
    "                plt.plot(dat[:,0], dat[:,1])\n",
    "            \n",
    "        \n",
    "           \n",
    "        plt.show()"
   ]
  },
  {
   "cell_type": "code",
   "execution_count": 3,
   "metadata": {},
   "outputs": [
    {
     "data": {
      "image/png": "[encoded data removed]",
      "text/plain": [
       "<Figure size 432x288 with 1 Axes>"
      ]
     },
     "metadata": {
      "needs_background": "light"
     },
     "output_type": "display_data"
    }
   ],
   "source": [
    "def dxdt(t, x, y):\n",
    "    return -x-y\n",
    "def dydt(t, x, y):\n",
    "    return x-y\n",
    "\n",
    "functions = [dxdt, dydt]\n",
    "\n",
    "initial_conditions = {\"t\": 0.00, \"x\": 1.00, \"y\": 0.00}\n",
    "times = [0.00, 10.00]\n",
    "\n",
    "equations = ODE(initial_conditions, times, functions)\n",
    "output = equations.solve(0.001)\n",
    "equations.plot(output)"
   ]
  },
  {
   "cell_type": "markdown",
   "metadata": {},
   "source": [
    "# SIR Model for Infectious Diseases\n",
    "\n",
    "The SIR Model is a compartmental model for infectious diseases. The population is split into three compartments: \"susceptible\", \"infectious\" and \"recovered\" (sometimes \"removed\"). How the number of people in each compartment changes over time is given by the following system of differential equations.\n",
    "\n",
    "$$\n",
    "\\begin{align*}\n",
    "\\frac{dS}{dt} &= -\\frac{\\beta IS}{N} \\\\\n",
    "\\frac{dI}{dt} &= \\frac{\\beta IS}{N} - \\gamma I \\\\\n",
    "\\frac{dR}{dt} &= \\gamma I,\n",
    "\\end{align*}\n",
    "$$ where $N = S + I + R$ is the total population. <br><br>\n",
    "There are two parameters for the simple model given above: $\\beta$ and $\\gamma$.\n",
    "* $\\beta$ is the infection rate: the number of secondary infections per unit time.\n",
    "* $\\gamma$ is the recovery rate. Indeed, $\\frac{1}{\\gamma}$ is the average duration of the infectious period."
   ]
  },
  {
   "cell_type": "code",
   "execution_count": 4,
   "metadata": {},
   "outputs": [],
   "source": [
    "class SIR(ODE):\n",
    "    def __init__(self, initial_conditions, times, parameters):\n",
    "        self.states = initial_conditions\n",
    "        self.initial_conditions = list(initial_conditions.values())\n",
    "        self.times = times\n",
    "        self.parameters = parameters\n",
    "        self.number_of_equations = len(self.initial_conditions) - 1\n",
    "    \n",
    "    def model(self):\n",
    "        def dS(t, S, I, R):\n",
    "            N = S + I + R\n",
    "            return -(self.parameters[\"beta\"]*I*S)/N\n",
    "        def dI(t, S, I, R):\n",
    "            N = S + I + R\n",
    "            return ((self.parameters[\"beta\"]*I*S)/N) - self.parameters[\"gamma\"]*I\n",
    "        def dR(t, S, I, R):\n",
    "            N = S + I + R\n",
    "            return self.parameters[\"gamma\"]*I\n",
    "        \n",
    "        self.functions = [dS, dI, dR]"
   ]
  },
  {
   "cell_type": "code",
   "execution_count": 5,
   "metadata": {},
   "outputs": [
    {
     "data": {
      "image/png": "[encoded data removed]",
      "text/plain": [
       "<Figure size 432x288 with 1 Axes>"
      ]
     },
     "metadata": {
      "needs_background": "light"
     },
     "output_type": "display_data"
    }
   ],
   "source": [
    "from ipywidgets import interactive\n",
    "\n",
    "#initial_conditions = {\"t\": 0.00, \"S\": 1000.00, \"I\": 1.00, \"R\": 0.00}\n",
    "#times = [0, 100.00]\n",
    "#parameters = {\"beta\": 0.4, \"gamma\": 0.2}\n",
    "\n",
    "def SIR_Model(beta, gamma=0): \n",
    "    initial_conditions = {\"t\": 0.00, \"S\": 1000.00, \"I\": 1.00, \"R\": 0.00}\n",
    "    times = [0, 100.00]\n",
    "    parameters = {\"beta\": beta, \"gamma\": gamma}\n",
    "    sir_model = SIR(initial_conditions, times, parameters)\n",
    "    sir_model.model()\n",
    "    output = sir_model.solve(0.01)\n",
    "    sir_model.plot(output)\n",
    "    \n",
    "#iplot = interactive(SIR_Model, beta=(0, 1, 0.1), gamma=(0,2,0.1))\n",
    "#iplot\n",
    "\n",
    "SIR_Model(0.4, 0.1)"
   ]
  },
  {
   "cell_type": "code",
   "execution_count": null,
   "metadata": {},
   "outputs": [],
   "source": []
  }
 ],
 "metadata": {
  "kernelspec": {
   "display_name": "Python 3",
   "language": "python",
   "name": "python3"
  },
  "language_info": {
   "codemirror_mode": {
    "name": "ipython",
    "version": 3
   },
   "file_extension": ".py",
   "mimetype": "text/x-python",
   "name": "python",
   "nbconvert_exporter": "python",
   "pygments_lexer": "ipython3",
   "version": "3.8.5"
  }
 },
 "nbformat": 4,
 "nbformat_minor": 4
}
